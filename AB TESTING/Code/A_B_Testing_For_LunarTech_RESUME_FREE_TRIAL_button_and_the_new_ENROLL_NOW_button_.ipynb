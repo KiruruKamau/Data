{
  "nbformat": 4,
  "nbformat_minor": 0,
  "metadata": {
    "colab": {
      "provenance": []
    },
    "kernelspec": {
      "name": "python3",
      "display_name": "Python 3"
    },
    "language_info": {
      "name": "python"
    }
  },
  "cells": [
    {
      "cell_type": "code",
      "execution_count": null,
      "metadata": {
        "id": "vt0p2LxCMdyf"
      },
      "outputs": [],
      "source": [
        "#Import libraries\n",
        "import numpy as np\n",
        "import pandas as pd\n",
        "import matplotlib.pyplot as plt\n",
        "import seaborn as sns\n",
        "import scipy.stats as stats"
      ]
    },
    {
      "cell_type": "code",
      "source": [
        "#Get data from local\n",
        "from google.colab import files\n",
        "uploaded = files.upload()"
      ],
      "metadata": {
        "colab": {
          "base_uri": "https://localhost:8080/",
          "height": 71
        },
        "id": "mUIEE3WkPxsn",
        "outputId": "a8f1fe4e-7bc5-44c4-fab2-0518acd4adec"
      },
      "execution_count": null,
      "outputs": [
        {
          "output_type": "display_data",
          "data": {
            "text/plain": [
              "<IPython.core.display.HTML object>"
            ],
            "text/html": [
              "\n",
              "     <input type=\"file\" id=\"files-2e68dcae-d51e-45ed-ad0b-fa02be6b4bb9\" name=\"files[]\" multiple disabled\n",
              "        style=\"border:none\" />\n",
              "     <output id=\"result-2e68dcae-d51e-45ed-ad0b-fa02be6b4bb9\">\n",
              "      Upload widget is only available when the cell has been executed in the\n",
              "      current browser session. Please rerun this cell to enable.\n",
              "      </output>\n",
              "      <script>// Copyright 2017 Google LLC\n",
              "//\n",
              "// Licensed under the Apache License, Version 2.0 (the \"License\");\n",
              "// you may not use this file except in compliance with the License.\n",
              "// You may obtain a copy of the License at\n",
              "//\n",
              "//      http://www.apache.org/licenses/LICENSE-2.0\n",
              "//\n",
              "// Unless required by applicable law or agreed to in writing, software\n",
              "// distributed under the License is distributed on an \"AS IS\" BASIS,\n",
              "// WITHOUT WARRANTIES OR CONDITIONS OF ANY KIND, either express or implied.\n",
              "// See the License for the specific language governing permissions and\n",
              "// limitations under the License.\n",
              "\n",
              "/**\n",
              " * @fileoverview Helpers for google.colab Python module.\n",
              " */\n",
              "(function(scope) {\n",
              "function span(text, styleAttributes = {}) {\n",
              "  const element = document.createElement('span');\n",
              "  element.textContent = text;\n",
              "  for (const key of Object.keys(styleAttributes)) {\n",
              "    element.style[key] = styleAttributes[key];\n",
              "  }\n",
              "  return element;\n",
              "}\n",
              "\n",
              "// Max number of bytes which will be uploaded at a time.\n",
              "const MAX_PAYLOAD_SIZE = 100 * 1024;\n",
              "\n",
              "function _uploadFiles(inputId, outputId) {\n",
              "  const steps = uploadFilesStep(inputId, outputId);\n",
              "  const outputElement = document.getElementById(outputId);\n",
              "  // Cache steps on the outputElement to make it available for the next call\n",
              "  // to uploadFilesContinue from Python.\n",
              "  outputElement.steps = steps;\n",
              "\n",
              "  return _uploadFilesContinue(outputId);\n",
              "}\n",
              "\n",
              "// This is roughly an async generator (not supported in the browser yet),\n",
              "// where there are multiple asynchronous steps and the Python side is going\n",
              "// to poll for completion of each step.\n",
              "// This uses a Promise to block the python side on completion of each step,\n",
              "// then passes the result of the previous step as the input to the next step.\n",
              "function _uploadFilesContinue(outputId) {\n",
              "  const outputElement = document.getElementById(outputId);\n",
              "  const steps = outputElement.steps;\n",
              "\n",
              "  const next = steps.next(outputElement.lastPromiseValue);\n",
              "  return Promise.resolve(next.value.promise).then((value) => {\n",
              "    // Cache the last promise value to make it available to the next\n",
              "    // step of the generator.\n",
              "    outputElement.lastPromiseValue = value;\n",
              "    return next.value.response;\n",
              "  });\n",
              "}\n",
              "\n",
              "/**\n",
              " * Generator function which is called between each async step of the upload\n",
              " * process.\n",
              " * @param {string} inputId Element ID of the input file picker element.\n",
              " * @param {string} outputId Element ID of the output display.\n",
              " * @return {!Iterable<!Object>} Iterable of next steps.\n",
              " */\n",
              "function* uploadFilesStep(inputId, outputId) {\n",
              "  const inputElement = document.getElementById(inputId);\n",
              "  inputElement.disabled = false;\n",
              "\n",
              "  const outputElement = document.getElementById(outputId);\n",
              "  outputElement.innerHTML = '';\n",
              "\n",
              "  const pickedPromise = new Promise((resolve) => {\n",
              "    inputElement.addEventListener('change', (e) => {\n",
              "      resolve(e.target.files);\n",
              "    });\n",
              "  });\n",
              "\n",
              "  const cancel = document.createElement('button');\n",
              "  inputElement.parentElement.appendChild(cancel);\n",
              "  cancel.textContent = 'Cancel upload';\n",
              "  const cancelPromise = new Promise((resolve) => {\n",
              "    cancel.onclick = () => {\n",
              "      resolve(null);\n",
              "    };\n",
              "  });\n",
              "\n",
              "  // Wait for the user to pick the files.\n",
              "  const files = yield {\n",
              "    promise: Promise.race([pickedPromise, cancelPromise]),\n",
              "    response: {\n",
              "      action: 'starting',\n",
              "    }\n",
              "  };\n",
              "\n",
              "  cancel.remove();\n",
              "\n",
              "  // Disable the input element since further picks are not allowed.\n",
              "  inputElement.disabled = true;\n",
              "\n",
              "  if (!files) {\n",
              "    return {\n",
              "      response: {\n",
              "        action: 'complete',\n",
              "      }\n",
              "    };\n",
              "  }\n",
              "\n",
              "  for (const file of files) {\n",
              "    const li = document.createElement('li');\n",
              "    li.append(span(file.name, {fontWeight: 'bold'}));\n",
              "    li.append(span(\n",
              "        `(${file.type || 'n/a'}) - ${file.size} bytes, ` +\n",
              "        `last modified: ${\n",
              "            file.lastModifiedDate ? file.lastModifiedDate.toLocaleDateString() :\n",
              "                                    'n/a'} - `));\n",
              "    const percent = span('0% done');\n",
              "    li.appendChild(percent);\n",
              "\n",
              "    outputElement.appendChild(li);\n",
              "\n",
              "    const fileDataPromise = new Promise((resolve) => {\n",
              "      const reader = new FileReader();\n",
              "      reader.onload = (e) => {\n",
              "        resolve(e.target.result);\n",
              "      };\n",
              "      reader.readAsArrayBuffer(file);\n",
              "    });\n",
              "    // Wait for the data to be ready.\n",
              "    let fileData = yield {\n",
              "      promise: fileDataPromise,\n",
              "      response: {\n",
              "        action: 'continue',\n",
              "      }\n",
              "    };\n",
              "\n",
              "    // Use a chunked sending to avoid message size limits. See b/62115660.\n",
              "    let position = 0;\n",
              "    do {\n",
              "      const length = Math.min(fileData.byteLength - position, MAX_PAYLOAD_SIZE);\n",
              "      const chunk = new Uint8Array(fileData, position, length);\n",
              "      position += length;\n",
              "\n",
              "      const base64 = btoa(String.fromCharCode.apply(null, chunk));\n",
              "      yield {\n",
              "        response: {\n",
              "          action: 'append',\n",
              "          file: file.name,\n",
              "          data: base64,\n",
              "        },\n",
              "      };\n",
              "\n",
              "      let percentDone = fileData.byteLength === 0 ?\n",
              "          100 :\n",
              "          Math.round((position / fileData.byteLength) * 100);\n",
              "      percent.textContent = `${percentDone}% done`;\n",
              "\n",
              "    } while (position < fileData.byteLength);\n",
              "  }\n",
              "\n",
              "  // All done.\n",
              "  yield {\n",
              "    response: {\n",
              "      action: 'complete',\n",
              "    }\n",
              "  };\n",
              "}\n",
              "\n",
              "scope.google = scope.google || {};\n",
              "scope.google.colab = scope.google.colab || {};\n",
              "scope.google.colab._files = {\n",
              "  _uploadFiles,\n",
              "  _uploadFilesContinue,\n",
              "};\n",
              "})(self);\n",
              "</script> "
            ]
          },
          "metadata": {}
        },
        {
          "output_type": "stream",
          "name": "stdout",
          "text": [
            "Saving ab_test_click_data (1).csv to ab_test_click_data (1).csv\n"
          ]
        }
      ]
    },
    {
      "cell_type": "code",
      "source": [
        "#Loading Click Through Rate Data for AB Test\n",
        "df = pd.read_csv('ab_test_click_data (1).csv')"
      ],
      "metadata": {
        "id": "zHHB5bMUNKaA"
      },
      "execution_count": null,
      "outputs": []
    },
    {
      "cell_type": "code",
      "source": [
        "#Display the first few rows\n",
        "print(df.head())\n",
        "print(df.describe())\n",
        "print(df.groupby('group').sum('click'))"
      ],
      "metadata": {
        "id": "e-Az9p7MNjMk",
        "colab": {
          "base_uri": "https://localhost:8080/"
        },
        "outputId": "8e48c32b-75d7-4ace-9010-876a058eac30"
      },
      "execution_count": null,
      "outputs": [
        {
          "output_type": "stream",
          "name": "stdout",
          "text": [
            "   user_id  click group            timestamp\n",
            "0        1      1   exp  2024-01-01 00:00:00\n",
            "1        2      0   exp  2024-01-01 00:01:00\n",
            "2        3      1   exp  2024-01-01 00:02:00\n",
            "3        4      0   exp  2024-01-01 00:03:00\n",
            "4        5      1   exp  2024-01-01 00:04:00\n",
            "            user_id         click\n",
            "count  20000.000000  20000.000000\n",
            "mean   10000.500000      0.405250\n",
            "std     5773.647028      0.490953\n",
            "min        1.000000      0.000000\n",
            "25%     5000.750000      0.000000\n",
            "50%    10000.500000      0.000000\n",
            "75%    15000.250000      1.000000\n",
            "max    20000.000000      1.000000\n",
            "         user_id  click\n",
            "group                  \n",
            "con    150005000   1989\n",
            "exp     50005000   6116\n"
          ]
        }
      ]
    },
    {
      "cell_type": "markdown",
      "source": [
        "A simple bar chart showing the total clicks versus no-clicks in each group can provide a clear visual comparison of user engagement."
      ],
      "metadata": {
        "id": "cB49xYDzXWkP"
      }
    },
    {
      "cell_type": "code",
      "source": [
        "#Custom palette for yellow and black\n",
        "palette = {0: 'yellow', 1:'black'}\n",
        "\n",
        "#Plotting the click distribution for each group can provide a clear visual comparison of user engagement\n",
        "plt.figure(figsize=(10,6))\n",
        "ax =sns.countplot(x='group', hue='click', data=df, palette=palette)\n",
        "plt.title('Click Distribution in Experimental and Control Groups')\n",
        "plt.xlabel('Group')\n",
        "plt.ylabel('Count')\n",
        "plt.legend(title='Click', labels=['No', 'Yes'])\n",
        "\n",
        "\n",
        "#Calculate the percentages and annotate the bars\n",
        "group_counts = df.groupby(['group']).size()\n",
        "group_click_counts = df.groupby(['group', 'click']).size().reset_index(name='count')\n",
        "\n",
        "for p in ax.patches:\n",
        "  height = p.get_height()\n",
        "  #Find the group and click type for the current bar\n",
        "  group = 'exp' if p.get_x() < 0.5 else 'con'\n",
        "  click = 1 if p.get_x() % 1 > 0.5 else 0\n",
        "  total = group_counts.loc[group]\n",
        "  percentage = 100 * height / total\n",
        "  ax.text(p.get_x() + p.get_width() / 2., height + 5, f'{percentage:.1f}%', ha='center', color='black', fontsize='12')\n",
        "\n",
        "plt.tight_layout()\n",
        "plt.show()"
      ],
      "metadata": {
        "colab": {
          "base_uri": "https://localhost:8080/",
          "height": 447
        },
        "id": "XsvydC4LQeur",
        "outputId": "7f5300ef-99bb-42c7-cc5b-ab1c12865883"
      },
      "execution_count": null,
      "outputs": [
        {
          "output_type": "display_data",
          "data": {
            "text/plain": [
              "<Figure size 1000x600 with 1 Axes>"
            ],
            "image/png": "[encoded data removed]"
          },
          "metadata": {}
        }
      ]
    },
    {
      "cell_type": "markdown",
      "source": [
        "β:Probability of Type II Error\n",
        "\n",
        "(1-β):Power of the test\n",
        "\n",
        "α:Probability of Type I Error, Significance\n",
        "\n",
        "δ:Minimum Detectable Effect\n"
      ],
      "metadata": {
        "id": "RRz8-KXWXHYA"
      }
    },
    {
      "cell_type": "code",
      "source": [
        "alpha = 0.05 # 5%\n",
        "print('Alpha: significance level is:', alpha)\n",
        "\n",
        "delta = 0.1 # 10%\n",
        "print('Delta: minimum detectable effect is', delta)\n"
      ],
      "metadata": {
        "id": "O810_MbzaR0G",
        "colab": {
          "base_uri": "https://localhost:8080/"
        },
        "outputId": "3e5756a4-2fb1-4fe8-a3f9-9eb79cd9ce07"
      },
      "execution_count": null,
      "outputs": [
        {
          "output_type": "stream",
          "name": "stdout",
          "text": [
            "Alpha: significance level is: 0.05\n",
            "Delta: minimum detectable effect is 0.1\n"
          ]
        }
      ]
    },
    {
      "cell_type": "markdown",
      "source": [
        "Calculating total number of clicks per group by summing clicks"
      ],
      "metadata": {
        "id": "JTHzjUt4fti4"
      }
    },
    {
      "cell_type": "code",
      "source": [
        "N_con = df[df['group'] == 'con'].count()\n",
        "N_exp = df[df['group'] == 'exp'].count()\n",
        "\n",
        "\n",
        "# calculating the total number of clicks per group by summing 1's\n",
        "X_con = df.groupby('group')['click'].sum().loc['con']\n",
        "X_exp = df.groupby('group')['click'].sum().loc['exp']\n",
        "\n",
        "# printing this for visibility\n",
        "print(df.groupby('group')['click'].sum())\n",
        "print('Number of users in Control: ', N_con)\n",
        "print('Number of users in Experimental: ', N_exp)\n",
        "print('Number of Clicks in Control: ', X_con)\n",
        "print('Number of Clicks in Experimental: ', X_exp)"
      ],
      "metadata": {
        "colab": {
          "base_uri": "https://localhost:8080/"
        },
        "id": "hjxgFRplfmXt",
        "outputId": "e7202590-4e1a-45bf-b4e5-347feaac8f65"
      },
      "execution_count": null,
      "outputs": [
        {
          "output_type": "stream",
          "name": "stdout",
          "text": [
            "group\n",
            "con    1989\n",
            "exp    6116\n",
            "Name: click, dtype: int64\n",
            "Number of users in Control:  user_id      10000\n",
            "click        10000\n",
            "group        10000\n",
            "timestamp        0\n",
            "dtype: int64\n",
            "Number of users in Experimental:  user_id      10000\n",
            "click        10000\n",
            "group        10000\n",
            "timestamp    10000\n",
            "dtype: int64\n",
            "Number of Clicks in Control:  1989\n",
            "Number of Clicks in Experimental:  6116\n"
          ]
        }
      ]
    },
    {
      "cell_type": "markdown",
      "source": [
        "Calculating Poolde Estimates for Clicks per Group"
      ],
      "metadata": {
        "id": "anvX_voZiDbv"
      }
    },
    {
      "cell_type": "code",
      "source": [
        "# computing the estimate of click probability per group\n",
        "p_con_hat = X_con / N_con\n",
        "p_con_hat = p_con_hat.iloc[0]\n",
        "p_exp_hat = X_exp / N_exp\n",
        "p_exp_hat = p_exp_hat.iloc[0]\n",
        "print('Click probability in Control Group: ', p_con_hat)\n",
        "print('Click probability in Experimental Group: ', p_exp_hat)\n",
        "\n",
        "# computing the estimate of pooled clicked probability\n",
        "p_pooled_hat = (X_con + X_exp) / (N_con + N_exp)\n",
        "print('Pooled click probability: ', p_pooled_hat)"
      ],
      "metadata": {
        "colab": {
          "base_uri": "https://localhost:8080/",
          "height": 265
        },
        "id": "njTmQzI4h0Cr",
        "outputId": "c827eccf-ee3a-4233-cef7-dea94392db8b"
      },
      "execution_count": null,
      "outputs": [
        {
          "output_type": "stream",
          "name": "stdout",
          "text": [
            "Click probability in Control Group:  0.1989\n",
            "Click probability in Experimental Group:  0.6116\n",
            "Pooled click probability:  user_id      0.40525\n",
            "click        0.40525\n",
            "group        0.40525\n",
            "timestamp    0.81050\n",
            "dtype: float64\n"
          ]
        },
        {
          "output_type": "display_data",
          "data": {
            "text/plain": [
              "<Figure size 400x100 with 1 Axes>"
            ],
            "image/png": "[encoded data removed]"
          },
          "metadata": {}
        }
      ]
    },
    {
      "cell_type": "markdown",
      "source": [
        "Calculating Pooled Variance"
      ],
      "metadata": {
        "id": "WD-unRFXkfYE"
      }
    },
    {
      "cell_type": "code",
      "source": [
        "# computing the estimate of pooled variance\n",
        "pooled_variance = p_pooled_hat * (1-p_pooled_hat) * (1/N_con + 1/N_exp)\n",
        "print('p^ pooled is', p_pooled_hat)\n",
        "print('Pooled variance is: ', pooled_variance)\n"
      ],
      "metadata": {
        "colab": {
          "base_uri": "https://localhost:8080/"
        },
        "id": "iJLyKfI4jwml",
        "outputId": "8b864f62-100e-44f9-b6f8-308df6d43894"
      },
      "execution_count": null,
      "outputs": [
        {
          "output_type": "stream",
          "name": "stdout",
          "text": [
            "p^ pooled is user_id      0.40525\n",
            "click        0.40525\n",
            "group        0.40525\n",
            "timestamp    0.81050\n",
            "dtype: float64\n",
            "Pooled variance is:  user_id      0.000048\n",
            "click        0.000048\n",
            "group        0.000048\n",
            "timestamp         inf\n",
            "dtype: float64\n"
          ]
        }
      ]
    },
    {
      "cell_type": "markdown",
      "source": [
        "Calculating Standard Error and Test statistics"
      ],
      "metadata": {
        "id": "h37k5VrDmANo"
      }
    },
    {
      "cell_type": "code",
      "source": [
        "#computing the standard error of the test\n",
        "SE = np.sqrt(pooled_variance)\n",
        "SE = SE.iloc[0]\n",
        "print(\"Standard Error is: \", SE)\n",
        "\n",
        "#computing the test statistics of the Z-test\n",
        "Test_stat = (p_con_hat - p_exp_hat)/SE\n",
        "\n",
        "print(\"Test statistics for Z-sample Z-test is:\", Test_stat)\n",
        "\n",
        "#critical value of the Z-test\n",
        "Z_crit = stats.norm.ppf(1-alpha/2)\n",
        "print(\"Z-critical value from Standard Normal distribution: \", Z_crit)"
      ],
      "metadata": {
        "colab": {
          "base_uri": "https://localhost:8080/"
        },
        "id": "ACjFVOqnlAyI",
        "outputId": "a46c30bc-83a5-4d5a-8261-fd8ea974c075"
      },
      "execution_count": null,
      "outputs": [
        {
          "output_type": "stream",
          "name": "stdout",
          "text": [
            "Standard Error is:  0.006942945160376826\n",
            "Test statistics for Z-sample Z-test is: -59.44163326469381\n",
            "Z-critical value from Standard Normal distribution:  1.959963984540054\n"
          ]
        }
      ]
    },
    {
      "cell_type": "markdown",
      "source": [
        "**Calculating p_values of the Z-test**\n",
        "\n",
        ". A low p-value (p <= 0.05 at 5% significance level) indicates strong evidence against the null hypothesis, so we reject the null hypothesis\n",
        "\n",
        ". A high p_value (p>0.05) indicates weak evidence against the null hypothesis, so we fail to reject the null hypothesis.\n",
        "\n"
      ],
      "metadata": {
        "id": "-DkdUfhY7F2N"
      }
    },
    {
      "cell_type": "code",
      "source": [
        "#calculating p-value\n",
        "p_value = 2 * stats.norm.sf(abs(Test_stat))\n",
        "\n",
        "\n",
        "# function checking the statistical significance\n",
        "def is_statistical_significance(p_value, alpha):\n",
        "  \"\"\"\n",
        "  We assess whether there is statistical significance based on the p-value and alpha\n",
        "\n",
        "  Arguments:\n",
        "  - p_value (float): The p-value resulting from a statistical test.\n",
        "  - alpha (float, optional): The significance level threshold used to determine statistical significance. Defaults to 0.05.\n",
        "\n",
        "  Returns:\n",
        "  - Prints the assessment of statistical significance.\n",
        "  \"\"\"\n",
        "  #Print the rounded p-value to 3 decimal places\n",
        "  print(f\"p-value of the 2-sample Z-test: {round(p_value, 3)}\")\n",
        "\n",
        "  # Determine statistical significance\n",
        "  if p_value <= alpha:\n",
        "    print(\"There is statistical significance, indicating that the observed differences between the groups are unlikely to have occured due to random chance. This suggests the new version of the landing page results in a higher CTR\")\n",
        "\n",
        "  else:\n",
        "    print(\"There is no statistical significance, indicating that the observed differences between the groups are likely to have occured due to random chance. This suggests the new version of the landing page results in a lower CTR\")\n",
        "\n",
        "is_statistical_significance(p_value, alpha)"
      ],
      "metadata": {
        "id": "CFtSe0g9nMkU",
        "colab": {
          "base_uri": "https://localhost:8080/"
        },
        "outputId": "910ff3ad-4e05-47c2-e4ff-2cea0ec6af3d"
      },
      "execution_count": null,
      "outputs": [
        {
          "output_type": "stream",
          "name": "stdout",
          "text": [
            "p-value of the 2-sample Z-test: 0.0\n",
            "There is statistical significance, indicating that the observed differences between the groups are unlikely to have occured due to random chance. This suggests the new version of the landing page results in a higher CTR\n"
          ]
        }
      ]
    },
    {
      "cell_type": "code",
      "source": [
        "#Parameters for the standard normal distribution\n",
        "mu = 0 #Mean\n",
        "sigma = 1 #Standard deviation\n",
        "x = np.linspace(mu - 3*sigma, mu + 3*sigma, 100)\n",
        "y = stats.norm.pdf(x, mu, sigma)\n",
        "\n",
        "\n",
        "#Plotting the standard normal distribution\n",
        "plt.plot(x,y, label='Standard Normal Distribution')\n",
        "# Shade the rejection region for a two tailed test\n",
        "plt.fill_between(x, y, where=(x > Z_crit) | (x < -Z_crit), color='red', alpha=0.5, label='Rejection Region')\n",
        "# Adding Test statistic\n",
        "plt.axvline(x=Test_stat, color='green', linestyle='dashed', linewidth=2, label=f'Test Statistic = {Test_stat:.2f}')\n",
        "# Adding Z-critical values\n",
        "plt.axvline(-Z_crit, color='blue', linestyle='dashed', linewidth=1, label=f'Z_crit = {Z_crit:.2f}')\n",
        "plt.axvline(Z_crit, color='blue', linestyle='dashed', linewidth=1)\n",
        "\n",
        "# Adding labels and title\n",
        "plt.xlabel('Z-value')\n",
        "plt.ylabel('Probability Density')\n",
        "plt.title('Standard Normal Distribution with Rejection Region \\n (A/B Testing for LunarTech CTA button)')\n",
        "plt.legend()\n",
        "plt.grid(True)\n",
        "plt.show()\n"
      ],
      "metadata": {
        "colab": {
          "base_uri": "https://localhost:8080/",
          "height": 493
        },
        "id": "cMg86JxCiAzm",
        "outputId": "fc5854fd-bcf6-464c-8711-1737c3db2a19"
      },
      "execution_count": null,
      "outputs": [
        {
          "output_type": "display_data",
          "data": {
            "text/plain": [
              "<Figure size 640x480 with 1 Axes>"
            ],
            "image/png": "[encoded data removed]"
          },
          "metadata": {}
        }
      ]
    },
    {
      "cell_type": "markdown",
      "source": [
        "Calculating Confidence Interval of the Test"
      ],
      "metadata": {
        "id": "_fG1k0JiG8sf"
      }
    },
    {
      "cell_type": "code",
      "source": [
        "# Calculate the Confidence Interval (CI) for a 2-sample Z-test\n",
        "## Calculate the lower and upper bounds of the confidence interval\n",
        "\n",
        "CI_95 = [\n",
        "    round((p_exp_hat - p_con_hat) - SE*Z_crit, 3), # Lower bound of the CI, rounded to 3 decimal places\n",
        "    round((p_exp_hat - p_con_hat) + SE*Z_crit, 3)  # Upper bound of the CI rounded to 3 decimal places\n",
        "]\n",
        "# Print the calculated confidence interval\n",
        "print(\"Confidence Interval of the 2 sample Z-test is:\", CI_95)\n",
        "\n",
        "# Here, the confidence interval provides a range of values within which the true difference between the experimental and control group"
      ],
      "metadata": {
        "id": "hjG_Au-TAbrK",
        "colab": {
          "base_uri": "https://localhost:8080/"
        },
        "outputId": "d19096be-1056-4fa5-8b7b-416dbe14a54d"
      },
      "execution_count": null,
      "outputs": [
        {
          "output_type": "stream",
          "name": "stdout",
          "text": [
            "Confidence Interval of the 2 sample Z-test is: [np.float64(0.399), np.float64(0.426)]\n"
          ]
        }
      ]
    },
    {
      "cell_type": "markdown",
      "source": [
        "Testing for Practical Significance in A/B Testing"
      ],
      "metadata": {
        "id": "ToxeTkQxnOQk"
      }
    },
    {
      "cell_type": "code",
      "source": [
        "def is_Practically_significant(delta, CI_95):\n",
        "  \"\"\"\n",
        "  We assess here if the difference between the experimental and control group is practically significant using the Minimum Detectable Effect (MDE)\n",
        "\n",
        "  Arguments:\n",
        "  - delta (float): The Minimum Detectable Effect (MDE) considered for prectical significance\n",
        "  - CI_95 (tuple): A tuple representing the lower and upper bounds of the 95% confidence interval.\n",
        "\n",
        "  Returns:\n",
        "  - Prints whether the experiment has practical significance using the MDE and CI\n",
        "  \"\"\"\n",
        "\n",
        "  # Extract lower bound of 95% Confidence Interval\n",
        "  lower_bound_CI = CI_95[0]\n",
        "\n",
        "  # Check if the lower bound of the CI is greater than or equal to delta\n",
        "  if lower_bound_CI >= delta:\n",
        "    print(f\"We have practical significance! \\nWith MDE of {delta}, The difference between Control and Experimental group is practically significanct.\")\n",
        "    return True\n",
        "  else:\n",
        "    print(\"We don't have practical significance! \\nThe difference between Control and Experimental group is not practically significant\")\n",
        "    return False\n",
        "\n",
        "# Call the function\n",
        "significance = is_Practically_significant(delta, CI_95)\n",
        "print(\"Lower bound of 95% confidence interval is: \", CI_95[0])"
      ],
      "metadata": {
        "colab": {
          "base_uri": "https://localhost:8080/"
        },
        "id": "rQrCnUeYl6oT",
        "outputId": "0d1a5093-7a88-4f32-e3ec-b720eb62e475"
      },
      "execution_count": null,
      "outputs": [
        {
          "output_type": "stream",
          "name": "stdout",
          "text": [
            "We have practical significance! \n",
            "With MDE of 0.1, The difference between Control and Experimental group is practically significanct.\n",
            "Lower bound of 95% confidence interval is:  0.399\n"
          ]
        }
      ]
    },
    {
      "cell_type": "markdown",
      "source": [
        "We conclude that the ENROLL NOW button statistically leads to higher click through rate.\n",
        "\n",
        "Based on this research we should replace the RESUME FREE TRIAL button with the new ENROLL NOW button."
      ],
      "metadata": {
        "id": "xRiLwL1CtQzE"
      }
    }
  ]
}